{
  "nbformat": 4,
  "nbformat_minor": 0,
  "metadata": {
    "colab": {
      "name": "CNN_Torch_test.ipynb",
      "provenance": [],
      "collapsed_sections": [],
      "authorship_tag": "ABX9TyPFgQjD26rsBVwps7H10f2N",
      "include_colab_link": true
    },
    "kernelspec": {
      "name": "python3",
      "display_name": "Python 3"
    },
    "language_info": {
      "name": "python"
    }
  },
  "cells": [
    {
      "cell_type": "markdown",
      "metadata": {
        "id": "view-in-github",
        "colab_type": "text"
      },
      "source": [
        "<a href=\"https://colab.research.google.com/github/CHENZhoujing/CNN/blob/main/CNN_Torch_test.ipynb\" target=\"_parent\"><img src=\"https://colab.research.google.com/assets/colab-badge.svg\" alt=\"Open In Colab\"/></a>"
      ]
    },
    {
      "cell_type": "code",
      "execution_count": null,
      "metadata": {
        "id": "katfEclDmjTD"
      },
      "outputs": [],
      "source": [
        "import torch\n",
        "import torch.nn as nn\n",
        "import torch.nn.functional as F\n",
        "import torch.optim as optim\n",
        "from torchvision import datasets, transforms\n",
        "from torch.autograd import Variable"
      ]
    },
    {
      "cell_type": "code",
      "source": [
        "batch_size = 64\n",
        "\n",
        "train_dataset = datasets.MNIST(root='./data/', train=True, transform=transforms.ToTensor(), download=True)\n",
        "test_dataset = datasets.MNIST(root='./data/', train=False, transform=transforms.ToTensor())\n",
        "\n",
        "train_loader = torch.utils.data.DataLoader(dataset=train_dataset, batch_size=batch_size, shuffle=True)\n",
        "test_loader = torch.utils.data.DataLoader(dataset=test_dataset,batch_size=batch_size, shuffle=False)\n",
        "\n"
      ],
      "metadata": {
        "id": "uixh0WNqn_ov"
      },
      "execution_count": null,
      "outputs": []
    },
    {
      "cell_type": "code",
      "source": [
        "class Net(nn.Module):\n",
        "    def __init__(self):\n",
        "        super(Net, self).__init__()\n",
        "        # 输入1通道，输出10通道，kernel 5*5\n",
        "        self.conv1 = nn.Conv2d(1, 10, kernel_size=5)\n",
        "        self.conv2 = nn.Conv2d(10, 20, kernel_size=5)\n",
        "        self.mp = nn.MaxPool2d(2)\n",
        "        # fully connect\n",
        "        self.fc = nn.Linear(320, 10)\n",
        "\n",
        "    def forward(self, x):\n",
        "        # in_size = 64\n",
        "        in_size = x.size(0) # one batch\n",
        "        # x: 64*10*12*12\n",
        "        x = F.relu(self.mp(self.conv1(x)))\n",
        "        # x: 64*20*4*4\n",
        "        x = F.relu(self.mp(self.conv2(x)))\n",
        "        # x: 64*320\n",
        "        x = x.view(in_size, -1) # flatten the tensor\n",
        "        # x: 64*10\n",
        "        x = self.fc(x)\n",
        "        return F.log_softmax(x)\n",
        "\n",
        "\n",
        "model = Net()\n",
        "\n",
        "optimizer = optim.SGD(model.parameters(), lr=0.01, momentum=0.5)\n",
        "\n",
        "def train(epoch):\n",
        "    for batch_idx, (data, target) in enumerate(train_loader):\n",
        "        data, target = Variable(data), Variable(target)\n",
        "        optimizer.zero_grad()\n",
        "        output = model(data)\n",
        "        loss = F.nll_loss(output, target)\n",
        "        loss.backward()\n",
        "        optimizer.step()\n",
        "        if batch_idx % 200 == 0:\n",
        "            print('Train Epoch: {} [{}/{} ({:.0f}%)]\\tLoss: {:.6f}'.format(\n",
        "                epoch, batch_idx * len(data), len(train_loader.dataset),\n",
        "                100. * batch_idx / len(train_loader), loss.data))\n",
        "    \n",
        "\n",
        "\n",
        "def test():\n",
        "    test_loss = 0\n",
        "    correct = 0\n",
        "    for data, target in test_loader:\n",
        "        data, target = Variable(data, volatile=True), Variable(target)\n",
        "        output = model(data)\n",
        "        # sum up batch loss\n",
        "        test_loss += F.nll_loss(output, target, size_average=False).data\n",
        "        # get the index of the max log-probability\n",
        "        pred = output.data.max(1, keepdim=True)[1]\n",
        "        correct += pred.eq(target.data.view_as(pred)).cpu().sum()\n",
        "\n",
        "    test_loss /= len(test_loader.dataset)\n",
        "    print('\\nTest set: Average loss: {:.4f}, Accuracy: {}/{} ({:.0f}%)\\n'.format(\n",
        "        test_loss, correct, len(test_loader.dataset),\n",
        "        100. * correct / len(test_loader.dataset)))\n",
        "\n",
        "\n",
        "for epoch in range(1, 10):\n",
        "    train(epoch)\n",
        "    test()\n",
        "\n"
      ],
      "metadata": {
        "colab": {
          "base_uri": "https://localhost:8080/"
        },
        "id": "xsQqDmW5rPqd",
        "outputId": "1255cbd9-f9cf-49b1-b9f4-3dd5c67d37bf"
      },
      "execution_count": 21,
      "outputs": [
        {
          "output_type": "stream",
          "name": "stderr",
          "text": [
            "/usr/local/lib/python3.7/dist-packages/ipykernel_launcher.py:22: UserWarning: Implicit dimension choice for log_softmax has been deprecated. Change the call to include dim=X as an argument.\n"
          ]
        },
        {
          "output_type": "stream",
          "name": "stdout",
          "text": [
            "Train Epoch: 1 [0/60000 (0%)]\tLoss: 2.316982\n",
            "Train Epoch: 1 [12800/60000 (21%)]\tLoss: 0.493170\n",
            "Train Epoch: 1 [25600/60000 (43%)]\tLoss: 0.362335\n",
            "Train Epoch: 1 [38400/60000 (64%)]\tLoss: 0.261402\n",
            "Train Epoch: 1 [51200/60000 (85%)]\tLoss: 0.187781\n"
          ]
        },
        {
          "output_type": "stream",
          "name": "stderr",
          "text": [
            "/usr/local/lib/python3.7/dist-packages/ipykernel_launcher.py:48: UserWarning: volatile was removed and now has no effect. Use `with torch.no_grad():` instead.\n",
            "/usr/local/lib/python3.7/dist-packages/torch/nn/_reduction.py:42: UserWarning: size_average and reduce args will be deprecated, please use reduction='sum' instead.\n",
            "  warnings.warn(warning.format(ret))\n"
          ]
        },
        {
          "output_type": "stream",
          "name": "stdout",
          "text": [
            "\n",
            "Test set: Average loss: 0.1775, Accuracy: 9488/10000 (95%)\n",
            "\n",
            "Train Epoch: 2 [0/60000 (0%)]\tLoss: 0.238442\n",
            "Train Epoch: 2 [12800/60000 (21%)]\tLoss: 0.164997\n",
            "Train Epoch: 2 [25600/60000 (43%)]\tLoss: 0.072519\n",
            "Train Epoch: 2 [38400/60000 (64%)]\tLoss: 0.157203\n",
            "Train Epoch: 2 [51200/60000 (85%)]\tLoss: 0.193019\n",
            "\n",
            "Test set: Average loss: 0.1153, Accuracy: 9647/10000 (96%)\n",
            "\n",
            "Train Epoch: 3 [0/60000 (0%)]\tLoss: 0.143084\n",
            "Train Epoch: 3 [12800/60000 (21%)]\tLoss: 0.246259\n",
            "Train Epoch: 3 [25600/60000 (43%)]\tLoss: 0.049620\n",
            "Train Epoch: 3 [38400/60000 (64%)]\tLoss: 0.197234\n",
            "Train Epoch: 3 [51200/60000 (85%)]\tLoss: 0.044428\n",
            "\n",
            "Test set: Average loss: 0.0865, Accuracy: 9759/10000 (98%)\n",
            "\n",
            "Train Epoch: 4 [0/60000 (0%)]\tLoss: 0.169888\n",
            "Train Epoch: 4 [12800/60000 (21%)]\tLoss: 0.084430\n",
            "Train Epoch: 4 [25600/60000 (43%)]\tLoss: 0.060377\n",
            "Train Epoch: 4 [38400/60000 (64%)]\tLoss: 0.143334\n",
            "Train Epoch: 4 [51200/60000 (85%)]\tLoss: 0.065372\n",
            "\n",
            "Test set: Average loss: 0.0721, Accuracy: 9771/10000 (98%)\n",
            "\n",
            "Train Epoch: 5 [0/60000 (0%)]\tLoss: 0.022969\n",
            "Train Epoch: 5 [12800/60000 (21%)]\tLoss: 0.090421\n",
            "Train Epoch: 5 [25600/60000 (43%)]\tLoss: 0.045399\n",
            "Train Epoch: 5 [38400/60000 (64%)]\tLoss: 0.175081\n",
            "Train Epoch: 5 [51200/60000 (85%)]\tLoss: 0.171379\n",
            "\n",
            "Test set: Average loss: 0.0633, Accuracy: 9798/10000 (98%)\n",
            "\n",
            "Train Epoch: 6 [0/60000 (0%)]\tLoss: 0.181171\n",
            "Train Epoch: 6 [12800/60000 (21%)]\tLoss: 0.128574\n",
            "Train Epoch: 6 [25600/60000 (43%)]\tLoss: 0.048580\n",
            "Train Epoch: 6 [38400/60000 (64%)]\tLoss: 0.010929\n",
            "Train Epoch: 6 [51200/60000 (85%)]\tLoss: 0.049092\n",
            "\n",
            "Test set: Average loss: 0.0597, Accuracy: 9810/10000 (98%)\n",
            "\n",
            "Train Epoch: 7 [0/60000 (0%)]\tLoss: 0.031801\n",
            "Train Epoch: 7 [12800/60000 (21%)]\tLoss: 0.037300\n",
            "Train Epoch: 7 [25600/60000 (43%)]\tLoss: 0.034498\n",
            "Train Epoch: 7 [38400/60000 (64%)]\tLoss: 0.032955\n",
            "Train Epoch: 7 [51200/60000 (85%)]\tLoss: 0.018821\n",
            "\n",
            "Test set: Average loss: 0.0564, Accuracy: 9827/10000 (98%)\n",
            "\n",
            "Train Epoch: 8 [0/60000 (0%)]\tLoss: 0.036252\n",
            "Train Epoch: 8 [12800/60000 (21%)]\tLoss: 0.071704\n",
            "Train Epoch: 8 [25600/60000 (43%)]\tLoss: 0.035584\n",
            "Train Epoch: 8 [38400/60000 (64%)]\tLoss: 0.009603\n",
            "Train Epoch: 8 [51200/60000 (85%)]\tLoss: 0.054852\n",
            "\n",
            "Test set: Average loss: 0.0512, Accuracy: 9843/10000 (98%)\n",
            "\n",
            "Train Epoch: 9 [0/60000 (0%)]\tLoss: 0.062098\n",
            "Train Epoch: 9 [12800/60000 (21%)]\tLoss: 0.031089\n",
            "Train Epoch: 9 [25600/60000 (43%)]\tLoss: 0.024081\n",
            "Train Epoch: 9 [38400/60000 (64%)]\tLoss: 0.109752\n",
            "Train Epoch: 9 [51200/60000 (85%)]\tLoss: 0.060885\n",
            "\n",
            "Test set: Average loss: 0.0512, Accuracy: 9835/10000 (98%)\n",
            "\n"
          ]
        }
      ]
    }
  ]
}